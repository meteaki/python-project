{
 "cells": [
  {
   "cell_type": "code",
   "execution_count": 3,
   "id": "1ce8779c",
   "metadata": {},
   "outputs": [
    {
     "name": "stdout",
     "output_type": "stream",
     "text": [
      "Kac adet sayi gireceksiniz:2\n",
      "0.sayiyi giriniz:2\n",
      "1.sayiyi giriniz:3\n",
      "5\n"
     ]
    }
   ],
   "source": [
    "n  = int(input(\"Kac adet sayi gireceksiniz:\"))\n",
    "toplam = 0\n",
    "for i in range(n):\n",
    "    sayi= int(input(f\"{i+1}.sayiyi giriniz:\"))\n",
    "    toplam += sayi\n",
    "#     toplam = toplam + sayi\n",
    "print(toplam)\n"
   ]
  },
  {
   "cell_type": "code",
   "execution_count": 11,
   "id": "9c61fec2",
   "metadata": {},
   "outputs": [
    {
     "name": "stdout",
     "output_type": "stream",
     "text": [
      "1. kenari giriniz:1\n",
      "2. kenari giriniz:2\n",
      "3. kenari giriniz:2\n",
      "4. kenari giriniz:5\n",
      "Cesitkenar dörtgen\n"
     ]
    }
   ],
   "source": [
    "# SORU-2: Kullanıcıdan alınan dört kenar\n",
    "# uzunluğuna göre şeklin kare, \n",
    "# dikdörtgen veya diğer dörtgenlerden biri \n",
    "# olduğunu belirten python kodunu yazınız.\n",
    "\n",
    "# * if-elif-else statement kullanılmalıdır\n",
    "a = int(input(\"1. kenari giriniz:\"))\n",
    "b = int(input(\"2. kenari giriniz:\"))\n",
    "c = int(input(\"3. kenari giriniz:\"))\n",
    "d = int(input(\"4. kenari giriniz:\"))\n",
    "if a == b == c == d :\n",
    "    print(\"Kare\")\n",
    "elif a == c and b == d :\n",
    "    print(\"Dikdörtgen\")\n",
    "else:\n",
    "    print(\"Cesitkenar dörtgen\")"
   ]
  },
  {
   "cell_type": "code",
   "execution_count": 22,
   "id": "9a9684ec",
   "metadata": {},
   "outputs": [
    {
     "name": "stdout",
     "output_type": "stream",
     "text": [
      "1. kenari giriniz:2\n",
      "2. kenari giriniz:2\n",
      "3. kenari giriniz:2\n",
      "4. kenari giriniz:2\n",
      "Kare\n"
     ]
    }
   ],
   "source": [
    "# * if-elif-else statement kullanılmalıdır\n",
    "# version 2\n",
    "a = int(input(\"1. kenari giriniz:\"))\n",
    "b = int(input(\"2. kenari giriniz:\"))\n",
    "c = int(input(\"3. kenari giriniz:\"))\n",
    "d = int(input(\"4. kenari giriniz:\"))\n",
    "\n",
    "dortgen = {a,b,c,d}\n",
    "length = len(dortgen)\n",
    "if length==1 :\n",
    "    print(\"Kare\")\n",
    "elif length == 2 :\n",
    "    print(\"Dikdörtgen\")\n",
    "else:\n",
    "    print(\"Cesitkenar dörtgen\")"
   ]
  },
  {
   "cell_type": "code",
   "execution_count": 40,
   "id": "3b39fe24",
   "metadata": {},
   "outputs": [
    {
     "name": "stdout",
     "output_type": "stream",
     "text": [
      "          m m          \n",
      "        m m m m        \n",
      "      m m m m m m      \n",
      "    m m m m m m m m    \n",
      "  m m m m m m m m m m  \n",
      "m m m m m m m m m m m m\n"
     ]
    }
   ],
   "source": [
    "# SORU-3: Kullanıcının belirleyeceği satır sayısı (n) kadar, \n",
    "# \"*\" işaretiyle piramit oluşturan python kodunu yazınız.\n",
    "\n",
    "# * For döngüsü kullanılmalıdır\n",
    "# sayi=int(input(\"Bir sayi giriniz\"))\n",
    "sayi = 6\n",
    "# print(* (\"*\").center(sayi *2))\n",
    "for i in range(1,sayi+1):\n",
    "    print(* (\"m\" * i*2).center(sayi *2))\n"
   ]
  },
  {
   "cell_type": "code",
   "execution_count": 39,
   "id": "8ad00826",
   "metadata": {},
   "outputs": [
    {
     "name": "stdout",
     "output_type": "stream",
     "text": [
      "enter a number:6\n",
      "     * \n",
      "    * * \n",
      "   * * * \n",
      "  * * * * \n",
      " * * * * * \n",
      "* * * * * * \n"
     ]
    }
   ],
   "source": [
    "num = int(input(\"enter a number:\"))\n",
    "for i in range(1, num + 1):\n",
    "    print(\" \" * (num- i)+ (\"*\" +\" \")*i)"
   ]
  },
  {
   "cell_type": "code",
   "execution_count": 45,
   "id": "91ca422e",
   "metadata": {},
   "outputs": [
    {
     "name": "stdout",
     "output_type": "stream",
     "text": [
      "Yaricapini giriniz: 10\n",
      "Yaricapi 10.0 olan dairenin alani:314.16, cevresi:62.83\n"
     ]
    }
   ],
   "source": [
    "yaricap = float(input(\"Yaricapini giriniz: \"))\n",
    "alan = 3.14159 * yaricap ** 2\n",
    "cevre = 2 * 3.14159 * yaricap\n",
    "\n",
    "print(f\"Yaricapi {round(yaricap,2)} olan dairenin alani:\\\n",
    "{round(alan,2)}, cevresi:{round(cevre,2)}\")\n"
   ]
  },
  {
   "cell_type": "code",
   "execution_count": 50,
   "id": "affa4dcc",
   "metadata": {},
   "outputs": [
    {
     "name": "stdout",
     "output_type": "stream",
     "text": [
      "1. sayiyi giriniz:20\n",
      "2. sayiyi giriniz:30\n",
      "150\n"
     ]
    }
   ],
   "source": [
    "# iki sayi arasindaki cift sayilarin toplami\n",
    "sayi1 = int(input(\"1. sayiyi giriniz:\"))\n",
    "sayi2 = int(input(\"2. sayiyi giriniz:\"))\n",
    "toplam = 0\n",
    "for i in range(sayi1,sayi2+1):\n",
    "    if i % 2 == 0:\n",
    "        toplam += i\n",
    "print(toplam)\n",
    "\n"
   ]
  },
  {
   "cell_type": "code",
   "execution_count": 60,
   "id": "f277b62b",
   "metadata": {},
   "outputs": [
    {
     "name": "stdout",
     "output_type": "stream",
     "text": [
      "1. sayiyi giriniz:1\n",
      "2. sayiyi giriniz:10\n",
      "30\n"
     ]
    }
   ],
   "source": [
    "def cift_topla(n):\n",
    "    toplam=0\n",
    "    for i in n:\n",
    "        if i %2 == 0:\n",
    "            toplam+=i\n",
    "    return toplam\n",
    "\n",
    "sayi1 = int(input(\"1. sayiyi giriniz:\"))\n",
    "sayi2 = int(input(\"2. sayiyi giriniz:\"))\n",
    "liste= list(range(sayi1, sayi2+1))\n",
    "\n",
    "print(cift_topla(liste))\n",
    "    "
   ]
  },
  {
   "cell_type": "code",
   "execution_count": 63,
   "id": "2866e20b",
   "metadata": {},
   "outputs": [
    {
     "name": "stdout",
     "output_type": "stream",
     "text": [
      "bir sayi giriniz4\n",
      "   * \n",
      "  * * \n",
      " * * * \n",
      "* * * * \n"
     ]
    }
   ],
   "source": [
    "def yildiz(num):\n",
    "    for i in range(1, num + 1):\n",
    "        print(\" \" * (num- i)+ (\"*\" +\" \")*i)\n",
    "\n",
    "# sdfgfdgfdg\n",
    "# sdfgfg\n",
    "\n",
    "yildiz(int(input(\"bir sayi giriniz:\")))"
   ]
  },
  {
   "cell_type": "code",
   "execution_count": 68,
   "id": "5e5014b9",
   "metadata": {},
   "outputs": [
    {
     "name": "stdout",
     "output_type": "stream",
     "text": [
      "314.0 62.8\n"
     ]
    }
   ],
   "source": [
    "def alan(y_cap):\n",
    "    return 3.14 * y_cap ** 2\n",
    "def cevre(y_cap):\n",
    "    return round(2 * 3.14 * y_cap,2)\n",
    "\n",
    "print(alan(10),cevre(10))\n",
    "\n"
   ]
  },
  {
   "cell_type": "code",
   "execution_count": null,
   "id": "bca984cc",
   "metadata": {},
   "outputs": [],
   "source": []
  }
 ],
 "metadata": {
  "kernelspec": {
   "display_name": "Python 3 (ipykernel)",
   "language": "python",
   "name": "python3"
  },
  "language_info": {
   "codemirror_mode": {
    "name": "ipython",
    "version": 3
   },
   "file_extension": ".py",
   "mimetype": "text/x-python",
   "name": "python",
   "nbconvert_exporter": "python",
   "pygments_lexer": "ipython3",
   "version": "3.8.12"
  }
 },
 "nbformat": 4,
 "nbformat_minor": 5
}
